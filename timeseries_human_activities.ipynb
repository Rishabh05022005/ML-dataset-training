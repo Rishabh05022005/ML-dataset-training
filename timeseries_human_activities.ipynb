{
  "cells": [
    {
      "cell_type": "code",
      "execution_count": null,
      "metadata": {
        "colab": {
          "base_uri": "https://localhost:8080/"
        },
        "id": "-foVEX48LheS",
        "outputId": "8d004cce-be9a-40c8-eeaa-968e1c7acf67"
      },
      "outputs": [
        {
          "output_type": "stream",
          "name": "stdout",
          "text": [
            "<class 'pandas.core.frame.DataFrame'>\n",
            "RangeIndex: 98184 entries, 0 to 98183\n",
            "Data columns (total 6 columns):\n",
            " #   Column     Non-Null Count  Dtype  \n",
            "---  ------     --------------  -----  \n",
            " 0   user       98184 non-null  int64  \n",
            " 1   activity   98184 non-null  object \n",
            " 2   timestamp  98183 non-null  float64\n",
            " 3   x-axis     98183 non-null  float64\n",
            " 4   y-axis     98183 non-null  float64\n",
            " 5   z-axis     98183 non-null  float64\n",
            "dtypes: float64(4), int64(1), object(1)\n",
            "memory usage: 4.5+ MB\n"
          ]
        }
      ],
      "source": [
        "import numpy as np\n",
        "import pandas as pd\n",
        "import matplotlib.pyplot as plt\n",
        "\n",
        "data = pd.read_csv('/content/time_series_data_human_activities.csv')\n",
        "data.info()"
      ]
    },
    {
      "cell_type": "code",
      "execution_count": null,
      "metadata": {
        "id": "dylvvTi1N1H-"
      },
      "outputs": [],
      "source": [
        "Features = ['user','timestamp','x-axis','y-axis','z-axis']\n",
        "prediction_class = ['activity']"
      ]
    },
    {
      "cell_type": "code",
      "execution_count": null,
      "metadata": {
        "id": "WTDzZ0o4Oghj"
      },
      "outputs": [],
      "source": [
        "x=data[Features].values\n",
        "y=data[prediction_class].values"
      ]
    },
    {
      "cell_type": "code",
      "execution_count": null,
      "metadata": {
        "id": "0eUVUEffP6Ng"
      },
      "outputs": [],
      "source": [
        "from sklearn.model_selection import train_test_split\n",
        "x_train,x_test,y_train,y_test = train_test_split(x,y,test_size=0.40,random_state=42)"
      ]
    },
    {
      "cell_type": "code",
      "execution_count": null,
      "metadata": {
        "id": "kkDOuue4OpDB"
      },
      "outputs": [],
      "source": [
        "from sklearn.neighbors import KNeighborsClassifier\n",
        "from sklearn.model_selection import train_test_split\n",
        "from sklearn.preprocessing import StandardScaler\n",
        "from sklearn.metrics import accuracy_score"
      ]
    },
    {
      "cell_type": "code",
      "execution_count": null,
      "metadata": {
        "id": "6TeVePctOxZx"
      },
      "outputs": [],
      "source": [
        "x_train, x_test, y_train, y_test= (train_test_split(x,y,test_size=0.3,random_state=42))"
      ]
    },
    {
      "cell_type": "markdown",
      "metadata": {
        "id": "8kAEE0IiQ-DM"
      },
      "source": [
        "LGBM"
      ]
    },
    {
      "cell_type": "code",
      "execution_count": null,
      "metadata": {
        "colab": {
          "base_uri": "https://localhost:8080/"
        },
        "id": "Cz6WeftMQ_jh",
        "outputId": "3f466282-a723-49ca-ee34-7123f22ef956"
      },
      "outputs": [
        {
          "output_type": "stream",
          "name": "stderr",
          "text": [
            "/usr/local/lib/python3.8/dist-packages/sklearn/preprocessing/_label.py:98: DataConversionWarning: A column-vector y was passed when a 1d array was expected. Please change the shape of y to (n_samples, ), for example using ravel().\n",
            "  y = column_or_1d(y, warn=True)\n",
            "/usr/local/lib/python3.8/dist-packages/sklearn/preprocessing/_label.py:133: DataConversionWarning: A column-vector y was passed when a 1d array was expected. Please change the shape of y to (n_samples, ), for example using ravel().\n",
            "  y = column_or_1d(y, warn=True)\n"
          ]
        },
        {
          "output_type": "stream",
          "name": "stdout",
          "text": [
            "accuracy:  0.9863185768604019\n"
          ]
        }
      ],
      "source": [
        "import lightgbm as lbg\n",
        "from lightgbm import LGBMClassifier\n",
        "gbm = LGBMClassifier()\n",
        "gbm.fit(x_train , y_train)\n",
        "y_pred = gbm.predict(x_test)\n",
        "\n",
        "from sklearn import metrics\n",
        "print(\"accuracy: \", metrics.accuracy_score(y_test, y_pred))"
      ]
    },
    {
      "cell_type": "markdown",
      "metadata": {
        "id": "EJkpPGTRWBtH"
      },
      "source": [
        "XG BOOST"
      ]
    },
    {
      "cell_type": "code",
      "execution_count": null,
      "metadata": {
        "colab": {
          "base_uri": "https://localhost:8080/"
        },
        "id": "G-psNFd3W7Oe",
        "outputId": "e821a132-e6ef-4fb1-b109-c3724f109d24"
      },
      "outputs": [
        {
          "output_type": "stream",
          "name": "stderr",
          "text": [
            "/usr/local/lib/python3.8/dist-packages/sklearn/preprocessing/_label.py:98: DataConversionWarning: A column-vector y was passed when a 1d array was expected. Please change the shape of y to (n_samples, ), for example using ravel().\n",
            "  y = column_or_1d(y, warn=True)\n",
            "/usr/local/lib/python3.8/dist-packages/sklearn/preprocessing/_label.py:133: DataConversionWarning: A column-vector y was passed when a 1d array was expected. Please change the shape of y to (n_samples, ), for example using ravel().\n",
            "  y = column_or_1d(y, warn=True)\n"
          ]
        },
        {
          "output_type": "stream",
          "name": "stdout",
          "text": [
            "accuarcy 0.999321021184139\n"
          ]
        }
      ],
      "source": [
        "#XGbOOST\n",
        "from xgboost import XGBClassifier\n",
        "xgb_clf = XGBClassifier()\n",
        "xgb_clf.fit(x_train, y_train)\n",
        "y_pred = xgb_clf.predict(x_test)\n",
        "\n",
        "\n",
        "from sklearn import metrics\n",
        "print(\"accuarcy\", metrics.accuracy_score(y_test, y_pred))"
      ]
    },
    {
      "cell_type": "markdown",
      "metadata": {
        "id": "_Es6lxouXJ9v"
      },
      "source": [
        "k MEANS"
      ]
    },
    {
      "cell_type": "code",
      "execution_count": null,
      "metadata": {
        "colab": {
          "base_uri": "https://localhost:8080/"
        },
        "id": "MDj7kL2WXMSx",
        "outputId": "7babf01a-5264-4cf5-f41f-d9efed648916"
      },
      "outputs": [
        {
          "output_type": "stream",
          "name": "stdout",
          "text": [
            "accuarcy 0.0\n"
          ]
        }
      ],
      "source": [
        "from sklearn.cluster import KMeans\n",
        "kmeans = KMeans()\n",
        "x_train.dtype= int\n",
        "kmeans.fit(x_train, y_train)\n",
        "x_test.dtype = int\n",
        "y_pred = kmeans.predict(x_test)\n",
        "\n",
        "from sklearn import metrics\n",
        "print(\"accuarcy\", metrics.accuracy_score(y_test, y_pred))\n"
      ]
    },
    {
      "cell_type": "markdown",
      "metadata": {
        "id": "pCTW7LyCXWYd"
      },
      "source": [
        "Isolation Forest"
      ]
    },
    {
      "cell_type": "code",
      "execution_count": null,
      "metadata": {
        "colab": {
          "base_uri": "https://localhost:8080/"
        },
        "id": "BNJqXm5CXaX0",
        "outputId": "0ba8abba-fb4f-45ca-e467-81d926a39eb0"
      },
      "outputs": [
        {
          "output_type": "stream",
          "name": "stdout",
          "text": [
            "accuarcy 0.0\n"
          ]
        }
      ],
      "source": [
        "from sklearn.ensemble import IsolationForest\n",
        "clf = IsolationForest()\n",
        "clf.fit(x_train, y_train)\n",
        "y_pred = clf.predict(x_test)\n",
        "\n",
        "\n",
        "from sklearn import metrics\n",
        "print(\"accuarcy\", metrics.accuracy_score(y_test, y_pred))"
      ]
    },
    {
      "cell_type": "markdown",
      "metadata": {
        "id": "YIPwHujOXh9C"
      },
      "source": [
        "logistic regression"
      ]
    },
    {
      "cell_type": "code",
      "execution_count": null,
      "metadata": {
        "colab": {
          "base_uri": "https://localhost:8080/"
        },
        "id": "6pJ-yJCTXiQ4",
        "outputId": "d69b59e4-2b27-4541-de93-994419f1f96d"
      },
      "outputs": [
        {
          "output_type": "stream",
          "name": "stderr",
          "text": [
            "/usr/local/lib/python3.8/dist-packages/sklearn/utils/validation.py:993: DataConversionWarning: A column-vector y was passed when a 1d array was expected. Please change the shape of y to (n_samples, ), for example using ravel().\n",
            "  y = column_or_1d(y, warn=True)\n"
          ]
        },
        {
          "output_type": "stream",
          "name": "stdout",
          "text": [
            "Accuracy:  1.288865267074143 %\n"
          ]
        },
        {
          "output_type": "stream",
          "name": "stderr",
          "text": [
            "/usr/local/lib/python3.8/dist-packages/sklearn/linear_model/_logistic.py:814: ConvergenceWarning: lbfgs failed to converge (status=2):\n",
            "ABNORMAL_TERMINATION_IN_LNSRCH.\n",
            "\n",
            "Increase the number of iterations (max_iter) or scale the data as shown in:\n",
            "    https://scikit-learn.org/stable/modules/preprocessing.html\n",
            "Please also refer to the documentation for alternative solver options:\n",
            "    https://scikit-learn.org/stable/modules/linear_model.html#logistic-regression\n",
            "  n_iter_i = _check_optimize_result(\n"
          ]
        }
      ],
      "source": [
        "from sklearn.linear_model import LogisticRegression\n",
        "reg = LogisticRegression()\n",
        "reg.fit(x_train, y_train)\n",
        "y_predict = reg.predict(x_test)\n",
        "from sklearn import metrics\n",
        "print(\"Accuracy: \", metrics.accuracy_score(y_test, y_predict)*100, \"%\")"
      ]
    }
  ],
  "metadata": {
    "colab": {
      "provenance": []
    },
    "kernelspec": {
      "display_name": "Python 3",
      "name": "python3"
    },
    "language_info": {
      "name": "python"
    }
  },
  "nbformat": 4,
  "nbformat_minor": 0
}